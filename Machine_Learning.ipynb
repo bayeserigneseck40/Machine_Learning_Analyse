{
 "cells": [
  {
   "cell_type": "code",
   "execution_count": 21,
   "id": "ae58cb41",
   "metadata": {},
   "outputs": [],
   "source": [
    "#import \n",
    "from collections import defaultdict\n",
    "import pandas as pd\n",
    "import matplotlib.pyplot as plt\n",
    "import numpy as np\n",
    "import plotly.express as px\n",
    "import seaborn as sns\n",
    "from nltk.corpus import stopwords\n",
    "from nltk.stem import WordNetLemmatizer\n",
    "import re\n",
    "from sklearn.cluster import KMeans\n",
    "from sklearn.preprocessing import StandardScaler \n",
    "from sklearn.decomposition import PCA\n",
    "import os\n",
    "from sklearn.neighbors import KNeighborsClassifier\n",
    "from sklearn.model_selection import train_test_split\n",
    "from sklearn.metrics import accuracy_score\n",
    "from sklearn.metrics import f1_score\n",
    "from sklearn.metrics import classification_report \n",
    "import warnings"
   ]
  },
  {
   "cell_type": "code",
   "execution_count": 2,
   "id": "d9910b4d",
   "metadata": {},
   "outputs": [
    {
     "name": "stderr",
     "output_type": "stream",
     "text": [
      "[nltk_data] Downloading package stopwords to\n",
      "[nltk_data]     C:\\Users\\Serigne\\AppData\\Roaming\\nltk_data...\n",
      "[nltk_data]   Package stopwords is already up-to-date!\n"
     ]
    },
    {
     "data": {
      "text/plain": [
       "True"
      ]
     },
     "execution_count": 2,
     "metadata": {},
     "output_type": "execute_result"
    }
   ],
   "source": [
    "import nltk\n",
    "nltk.download('stopwords')"
   ]
  },
  {
   "cell_type": "code",
   "execution_count": 3,
   "id": "289af642",
   "metadata": {},
   "outputs": [
    {
     "name": "stderr",
     "output_type": "stream",
     "text": [
      "[nltk_data] Downloading package wordnet to\n",
      "[nltk_data]     C:\\Users\\Serigne\\AppData\\Roaming\\nltk_data...\n",
      "[nltk_data]   Package wordnet is already up-to-date!\n"
     ]
    },
    {
     "data": {
      "text/plain": [
       "True"
      ]
     },
     "execution_count": 3,
     "metadata": {},
     "output_type": "execute_result"
    }
   ],
   "source": [
    " nltk.download('wordnet')"
   ]
  },
  {
   "cell_type": "code",
   "execution_count": 4,
   "id": "ba3299f6",
   "metadata": {},
   "outputs": [
    {
     "name": "stderr",
     "output_type": "stream",
     "text": [
      "[nltk_data] Downloading package omw-1.4 to\n",
      "[nltk_data]     C:\\Users\\Serigne\\AppData\\Roaming\\nltk_data...\n",
      "[nltk_data]   Package omw-1.4 is already up-to-date!\n"
     ]
    },
    {
     "data": {
      "text/plain": [
       "True"
      ]
     },
     "execution_count": 4,
     "metadata": {},
     "output_type": "execute_result"
    }
   ],
   "source": [
    "nltk.download('omw-1.4')"
   ]
  },
  {
   "cell_type": "code",
   "execution_count": 22,
   "id": "df229b0a",
   "metadata": {},
   "outputs": [],
   "source": [
    "raw_data=pd.read_csv('winemag-data-130k-v2.csv')"
   ]
  },
  {
   "cell_type": "code",
   "execution_count": 23,
   "id": "f64b411a",
   "metadata": {},
   "outputs": [],
   "source": [
    "#ignore all wannings\n",
    "warnings.filterwarnings('ignore')"
   ]
  },
  {
   "cell_type": "code",
   "execution_count": 24,
   "id": "b69d1e62",
   "metadata": {},
   "outputs": [],
   "source": [
    "#lignes du fichier CSV car le fichier réel est trop volumineux\n",
    "df=raw_data.head(15000)"
   ]
  },
  {
   "cell_type": "code",
   "execution_count": 25,
   "id": "bbb6fd1c",
   "metadata": {},
   "outputs": [
    {
     "data": {
      "text/plain": [
       "Index(['id', 'country', 'description', 'designation', 'points', 'price',\n",
       "       'province', 'region_1', 'region_2', 'taster_name',\n",
       "       'taster_twitter_handle', 'title', 'variety', 'winery'],\n",
       "      dtype='object')"
      ]
     },
     "execution_count": 25,
     "metadata": {},
     "output_type": "execute_result"
    }
   ],
   "source": [
    "df.columns"
   ]
  },
  {
   "cell_type": "code",
   "execution_count": 26,
   "id": "7dd03f81",
   "metadata": {},
   "outputs": [
    {
     "data": {
      "text/plain": [
       "id                          0\n",
       "country                     8\n",
       "description                 0\n",
       "designation              4334\n",
       "points                      0\n",
       "price                    1055\n",
       "province                    8\n",
       "region_1                 2533\n",
       "region_2                 9170\n",
       "taster_name              3071\n",
       "taster_twitter_handle    3615\n",
       "title                       0\n",
       "variety                     0\n",
       "winery                      0\n",
       "dtype: int64"
      ]
     },
     "execution_count": 26,
     "metadata": {},
     "output_type": "execute_result"
    }
   ],
   "source": [
    "df.isna().sum()"
   ]
  },
  {
   "cell_type": "code",
   "execution_count": 27,
   "id": "82e6a789",
   "metadata": {},
   "outputs": [
    {
     "data": {
      "text/plain": [
       "id                       15000\n",
       "country                     37\n",
       "description              14889\n",
       "designation               7658\n",
       "points                      21\n",
       "price                      192\n",
       "province                   273\n",
       "region_1                   822\n",
       "region_2                    17\n",
       "taster_name                 18\n",
       "taster_twitter_handle       14\n",
       "title                    14865\n",
       "variety                    390\n",
       "winery                    6992\n",
       "dtype: int64"
      ]
     },
     "execution_count": 27,
     "metadata": {},
     "output_type": "execute_result"
    }
   ],
   "source": [
    "df.nunique()"
   ]
  },
  {
   "cell_type": "code",
   "execution_count": 28,
   "id": "95f2200e",
   "metadata": {},
   "outputs": [],
   "source": [
    "#Supprimer les colonnes, définir les NaNs de dépôt d’index et les doublons\n",
    "df.drop(columns=[\"taster_name\",\"taster_twitter_handle\"],inplace=True)\n",
    "df=df.set_index('id')\n",
    "df.dropna(axis=0,inplace=True)\n",
    "df.drop_duplicates(inplace=True)\n",
    "df=df.reset_index(drop=True)"
   ]
  },
  {
   "cell_type": "code",
   "execution_count": 29,
   "id": "b6e34a18",
   "metadata": {},
   "outputs": [
    {
     "data": {
      "text/html": [
       "<div>\n",
       "<style scoped>\n",
       "    .dataframe tbody tr th:only-of-type {\n",
       "        vertical-align: middle;\n",
       "    }\n",
       "\n",
       "    .dataframe tbody tr th {\n",
       "        vertical-align: top;\n",
       "    }\n",
       "\n",
       "    .dataframe thead th {\n",
       "        text-align: right;\n",
       "    }\n",
       "</style>\n",
       "<table border=\"1\" class=\"dataframe\">\n",
       "  <thead>\n",
       "    <tr style=\"text-align: right;\">\n",
       "      <th></th>\n",
       "      <th>country</th>\n",
       "      <th>description</th>\n",
       "      <th>designation</th>\n",
       "      <th>points</th>\n",
       "      <th>price</th>\n",
       "      <th>province</th>\n",
       "      <th>region_1</th>\n",
       "      <th>region_2</th>\n",
       "      <th>title</th>\n",
       "      <th>variety</th>\n",
       "      <th>winery</th>\n",
       "    </tr>\n",
       "  </thead>\n",
       "  <tbody>\n",
       "    <tr>\n",
       "      <th>0</th>\n",
       "      <td>US</td>\n",
       "      <td>Much like the regular bottling from 2012, this...</td>\n",
       "      <td>Vintner's Reserve Wild Child Block</td>\n",
       "      <td>87</td>\n",
       "      <td>65.0</td>\n",
       "      <td>Oregon</td>\n",
       "      <td>Willamette Valley</td>\n",
       "      <td>Willamette Valley</td>\n",
       "      <td>Sweet Cheeks 2012 Vintner's Reserve Wild Child...</td>\n",
       "      <td>Pinot Noir</td>\n",
       "      <td>Sweet Cheeks</td>\n",
       "    </tr>\n",
       "    <tr>\n",
       "      <th>1</th>\n",
       "      <td>US</td>\n",
       "      <td>Soft, supple plum envelopes an oaky structure ...</td>\n",
       "      <td>Mountain Cuvée</td>\n",
       "      <td>87</td>\n",
       "      <td>19.0</td>\n",
       "      <td>California</td>\n",
       "      <td>Napa Valley</td>\n",
       "      <td>Napa</td>\n",
       "      <td>Kirkland Signature 2011 Mountain Cuvée Caberne...</td>\n",
       "      <td>Cabernet Sauvignon</td>\n",
       "      <td>Kirkland Signature</td>\n",
       "    </tr>\n",
       "    <tr>\n",
       "      <th>2</th>\n",
       "      <td>US</td>\n",
       "      <td>This wine from the Geneseo district offers aro...</td>\n",
       "      <td>Signature Selection</td>\n",
       "      <td>87</td>\n",
       "      <td>22.0</td>\n",
       "      <td>California</td>\n",
       "      <td>Paso Robles</td>\n",
       "      <td>Central Coast</td>\n",
       "      <td>Bianchi 2011 Signature Selection Merlot (Paso ...</td>\n",
       "      <td>Merlot</td>\n",
       "      <td>Bianchi</td>\n",
       "    </tr>\n",
       "    <tr>\n",
       "      <th>3</th>\n",
       "      <td>US</td>\n",
       "      <td>Oak and earth intermingle around robust aromas...</td>\n",
       "      <td>King Ridge Vineyard</td>\n",
       "      <td>87</td>\n",
       "      <td>69.0</td>\n",
       "      <td>California</td>\n",
       "      <td>Sonoma Coast</td>\n",
       "      <td>Sonoma</td>\n",
       "      <td>Castello di Amorosa 2011 King Ridge Vineyard P...</td>\n",
       "      <td>Pinot Noir</td>\n",
       "      <td>Castello di Amorosa</td>\n",
       "    </tr>\n",
       "    <tr>\n",
       "      <th>4</th>\n",
       "      <td>US</td>\n",
       "      <td>Rustic and dry, this has flavors of berries, c...</td>\n",
       "      <td>Puma Springs Vineyard</td>\n",
       "      <td>86</td>\n",
       "      <td>50.0</td>\n",
       "      <td>California</td>\n",
       "      <td>Dry Creek Valley</td>\n",
       "      <td>Sonoma</td>\n",
       "      <td>Envolve 2010 Puma Springs Vineyard Red (Dry Cr...</td>\n",
       "      <td>Red Blend</td>\n",
       "      <td>Envolve</td>\n",
       "    </tr>\n",
       "  </tbody>\n",
       "</table>\n",
       "</div>"
      ],
      "text/plain": [
       "  country                                        description  \\\n",
       "0      US  Much like the regular bottling from 2012, this...   \n",
       "1      US  Soft, supple plum envelopes an oaky structure ...   \n",
       "2      US  This wine from the Geneseo district offers aro...   \n",
       "3      US  Oak and earth intermingle around robust aromas...   \n",
       "4      US  Rustic and dry, this has flavors of berries, c...   \n",
       "\n",
       "                          designation  points  price    province  \\\n",
       "0  Vintner's Reserve Wild Child Block      87   65.0      Oregon   \n",
       "1                      Mountain Cuvée      87   19.0  California   \n",
       "2                 Signature Selection      87   22.0  California   \n",
       "3                 King Ridge Vineyard      87   69.0  California   \n",
       "4               Puma Springs Vineyard      86   50.0  California   \n",
       "\n",
       "            region_1           region_2  \\\n",
       "0  Willamette Valley  Willamette Valley   \n",
       "1        Napa Valley               Napa   \n",
       "2        Paso Robles      Central Coast   \n",
       "3       Sonoma Coast             Sonoma   \n",
       "4   Dry Creek Valley             Sonoma   \n",
       "\n",
       "                                               title             variety  \\\n",
       "0  Sweet Cheeks 2012 Vintner's Reserve Wild Child...          Pinot Noir   \n",
       "1  Kirkland Signature 2011 Mountain Cuvée Caberne...  Cabernet Sauvignon   \n",
       "2  Bianchi 2011 Signature Selection Merlot (Paso ...              Merlot   \n",
       "3  Castello di Amorosa 2011 King Ridge Vineyard P...          Pinot Noir   \n",
       "4  Envolve 2010 Puma Springs Vineyard Red (Dry Cr...           Red Blend   \n",
       "\n",
       "                winery  \n",
       "0         Sweet Cheeks  \n",
       "1   Kirkland Signature  \n",
       "2              Bianchi  \n",
       "3  Castello di Amorosa  \n",
       "4              Envolve  "
      ]
     },
     "execution_count": 29,
     "metadata": {},
     "output_type": "execute_result"
    }
   ],
   "source": [
    "df.head(5)"
   ]
  },
  {
   "cell_type": "code",
   "execution_count": 30,
   "id": "5badf108",
   "metadata": {},
   "outputs": [
    {
     "data": {
      "text/plain": [
       "(3907, 11)"
      ]
     },
     "execution_count": 30,
     "metadata": {},
     "output_type": "execute_result"
    }
   ],
   "source": [
    "#Vérifier la forme pour vérifier le nombre d’entrées disponibles\n",
    "df.shape"
   ]
  },
  {
   "cell_type": "code",
   "execution_count": 31,
   "id": "5f09582e",
   "metadata": {},
   "outputs": [],
   "source": [
    "#Obtenez des mots vides et ajoutez d’autres mots courants à partir d’un fichier texte dans l’ensemble\n",
    "stopWords=set(stopwords.words('english'))\n",
    "#Supprimer \\n des caractères\n",
    "with open('Common English Words.txt') as file:\n",
    "    clearned_cwords=[word[:len(word)-1] for word in file.readlines()]\n",
    "#Ajouter un fichier texte Mots courants pour arrêter les mots définis\n",
    "for c_words in clearned_cwords:\n",
    "    stopWords.add(c_words)\n",
    "\n",
    "    \n",
    "for wine_variety in df['variety']:\n",
    "    stopWords.add(wine_variety)"
   ]
  },
  {
   "cell_type": "code",
   "execution_count": 32,
   "id": "8d8208c6",
   "metadata": {},
   "outputs": [],
   "source": [
    "lemmatizer = WordNetLemmatizer()\n",
    "\n",
    "processed_sentences=[]\n",
    "for desc in df['description']:\n",
    "    preprocessed= [word.lower().strip() for word in desc.split() ]\n",
    "    for index ,word in enumerate(preprocessed):\n",
    "            match = re.search(\"[\\d%,.]\",word)\n",
    "            if match is not None:\n",
    "                 preprocessed.pop(index)\n",
    "    preprocessed = [lemmatizer.lemmatize(word) for word in preprocessed]\n",
    "    processed_sentences.append(\" \".join(preprocessed))\n",
    "       \n",
    "\n",
    "    \n",
    "\n",
    "        \n"
   ]
  },
  {
   "cell_type": "code",
   "execution_count": 33,
   "id": "353ce7a6",
   "metadata": {},
   "outputs": [],
   "source": [
    "for i in range (df.shape[0]):\n",
    "    df.loc[i,\"processed_description\"]=processed_sentences[i]"
   ]
  },
  {
   "cell_type": "code",
   "execution_count": 34,
   "id": "3ab4f3cb",
   "metadata": {},
   "outputs": [],
   "source": [
    "scaler = StandardScaler()\n",
    "standardize_col=['points','price']\n",
    "for col in standardize_col:\n",
    "    df[f\"{col}_std\"] = scaler.fit_transform(df[col].values.reshape(-1,1))"
   ]
  },
  {
   "cell_type": "code",
   "execution_count": 35,
   "id": "e1b3157e",
   "metadata": {},
   "outputs": [
    {
     "data": {
      "text/html": [
       "<div>\n",
       "<style scoped>\n",
       "    .dataframe tbody tr th:only-of-type {\n",
       "        vertical-align: middle;\n",
       "    }\n",
       "\n",
       "    .dataframe tbody tr th {\n",
       "        vertical-align: top;\n",
       "    }\n",
       "\n",
       "    .dataframe thead th {\n",
       "        text-align: right;\n",
       "    }\n",
       "</style>\n",
       "<table border=\"1\" class=\"dataframe\">\n",
       "  <thead>\n",
       "    <tr style=\"text-align: right;\">\n",
       "      <th></th>\n",
       "      <th>country</th>\n",
       "      <th>description</th>\n",
       "      <th>designation</th>\n",
       "      <th>points</th>\n",
       "      <th>price</th>\n",
       "      <th>province</th>\n",
       "      <th>region_1</th>\n",
       "      <th>region_2</th>\n",
       "      <th>title</th>\n",
       "      <th>variety</th>\n",
       "      <th>winery</th>\n",
       "      <th>processed_description</th>\n",
       "      <th>points_std</th>\n",
       "      <th>price_std</th>\n",
       "    </tr>\n",
       "  </thead>\n",
       "  <tbody>\n",
       "    <tr>\n",
       "      <th>0</th>\n",
       "      <td>US</td>\n",
       "      <td>Much like the regular bottling from 2012, this...</td>\n",
       "      <td>Vintner's Reserve Wild Child Block</td>\n",
       "      <td>87</td>\n",
       "      <td>65.0</td>\n",
       "      <td>Oregon</td>\n",
       "      <td>Willamette Valley</td>\n",
       "      <td>Willamette Valley</td>\n",
       "      <td>Sweet Cheeks 2012 Vintner's Reserve Wild Child...</td>\n",
       "      <td>Pinot Noir</td>\n",
       "      <td>Sweet Cheeks</td>\n",
       "      <td>much like the regular bottling from this come ...</td>\n",
       "      <td>-0.655429</td>\n",
       "      <td>0.935170</td>\n",
       "    </tr>\n",
       "    <tr>\n",
       "      <th>1</th>\n",
       "      <td>US</td>\n",
       "      <td>Soft, supple plum envelopes an oaky structure ...</td>\n",
       "      <td>Mountain Cuvée</td>\n",
       "      <td>87</td>\n",
       "      <td>19.0</td>\n",
       "      <td>California</td>\n",
       "      <td>Napa Valley</td>\n",
       "      <td>Napa</td>\n",
       "      <td>Kirkland Signature 2011 Mountain Cuvée Caberne...</td>\n",
       "      <td>Cabernet Sauvignon</td>\n",
       "      <td>Kirkland Signature</td>\n",
       "      <td>supple plum envelope an oaky structure in this...</td>\n",
       "      <td>-0.655429</td>\n",
       "      <td>-0.831781</td>\n",
       "    </tr>\n",
       "    <tr>\n",
       "      <th>2</th>\n",
       "      <td>US</td>\n",
       "      <td>This wine from the Geneseo district offers aro...</td>\n",
       "      <td>Signature Selection</td>\n",
       "      <td>87</td>\n",
       "      <td>22.0</td>\n",
       "      <td>California</td>\n",
       "      <td>Paso Robles</td>\n",
       "      <td>Central Coast</td>\n",
       "      <td>Bianchi 2011 Signature Selection Merlot (Paso ...</td>\n",
       "      <td>Merlot</td>\n",
       "      <td>Bianchi</td>\n",
       "      <td>this wine from the geneseo district offer arom...</td>\n",
       "      <td>-0.655429</td>\n",
       "      <td>-0.716545</td>\n",
       "    </tr>\n",
       "    <tr>\n",
       "      <th>3</th>\n",
       "      <td>US</td>\n",
       "      <td>Oak and earth intermingle around robust aromas...</td>\n",
       "      <td>King Ridge Vineyard</td>\n",
       "      <td>87</td>\n",
       "      <td>69.0</td>\n",
       "      <td>California</td>\n",
       "      <td>Sonoma Coast</td>\n",
       "      <td>Sonoma</td>\n",
       "      <td>Castello di Amorosa 2011 King Ridge Vineyard P...</td>\n",
       "      <td>Pinot Noir</td>\n",
       "      <td>Castello di Amorosa</td>\n",
       "      <td>oak and earth intermingle around robust aroma ...</td>\n",
       "      <td>-0.655429</td>\n",
       "      <td>1.088818</td>\n",
       "    </tr>\n",
       "    <tr>\n",
       "      <th>4</th>\n",
       "      <td>US</td>\n",
       "      <td>Rustic and dry, this has flavors of berries, c...</td>\n",
       "      <td>Puma Springs Vineyard</td>\n",
       "      <td>86</td>\n",
       "      <td>50.0</td>\n",
       "      <td>California</td>\n",
       "      <td>Dry Creek Valley</td>\n",
       "      <td>Sonoma</td>\n",
       "      <td>Envolve 2010 Puma Springs Vineyard Red (Dry Cr...</td>\n",
       "      <td>Red Blend</td>\n",
       "      <td>Envolve</td>\n",
       "      <td>rustic and this ha flavor of currants, licoric...</td>\n",
       "      <td>-0.984830</td>\n",
       "      <td>0.358990</td>\n",
       "    </tr>\n",
       "  </tbody>\n",
       "</table>\n",
       "</div>"
      ],
      "text/plain": [
       "  country                                        description  \\\n",
       "0      US  Much like the regular bottling from 2012, this...   \n",
       "1      US  Soft, supple plum envelopes an oaky structure ...   \n",
       "2      US  This wine from the Geneseo district offers aro...   \n",
       "3      US  Oak and earth intermingle around robust aromas...   \n",
       "4      US  Rustic and dry, this has flavors of berries, c...   \n",
       "\n",
       "                          designation  points  price    province  \\\n",
       "0  Vintner's Reserve Wild Child Block      87   65.0      Oregon   \n",
       "1                      Mountain Cuvée      87   19.0  California   \n",
       "2                 Signature Selection      87   22.0  California   \n",
       "3                 King Ridge Vineyard      87   69.0  California   \n",
       "4               Puma Springs Vineyard      86   50.0  California   \n",
       "\n",
       "            region_1           region_2  \\\n",
       "0  Willamette Valley  Willamette Valley   \n",
       "1        Napa Valley               Napa   \n",
       "2        Paso Robles      Central Coast   \n",
       "3       Sonoma Coast             Sonoma   \n",
       "4   Dry Creek Valley             Sonoma   \n",
       "\n",
       "                                               title             variety  \\\n",
       "0  Sweet Cheeks 2012 Vintner's Reserve Wild Child...          Pinot Noir   \n",
       "1  Kirkland Signature 2011 Mountain Cuvée Caberne...  Cabernet Sauvignon   \n",
       "2  Bianchi 2011 Signature Selection Merlot (Paso ...              Merlot   \n",
       "3  Castello di Amorosa 2011 King Ridge Vineyard P...          Pinot Noir   \n",
       "4  Envolve 2010 Puma Springs Vineyard Red (Dry Cr...           Red Blend   \n",
       "\n",
       "                winery                              processed_description  \\\n",
       "0         Sweet Cheeks  much like the regular bottling from this come ...   \n",
       "1   Kirkland Signature  supple plum envelope an oaky structure in this...   \n",
       "2              Bianchi  this wine from the geneseo district offer arom...   \n",
       "3  Castello di Amorosa  oak and earth intermingle around robust aroma ...   \n",
       "4              Envolve  rustic and this ha flavor of currants, licoric...   \n",
       "\n",
       "   points_std  price_std  \n",
       "0   -0.655429   0.935170  \n",
       "1   -0.655429  -0.831781  \n",
       "2   -0.655429  -0.716545  \n",
       "3   -0.655429   1.088818  \n",
       "4   -0.984830   0.358990  "
      ]
     },
     "execution_count": 35,
     "metadata": {},
     "output_type": "execute_result"
    }
   ],
   "source": [
    "df.head()"
   ]
  },
  {
   "cell_type": "code",
   "execution_count": 36,
   "id": "a5339276",
   "metadata": {},
   "outputs": [],
   "source": [
    "df_mapped=df.copy()"
   ]
  },
  {
   "cell_type": "code",
   "execution_count": 37,
   "id": "5b9a3d59",
   "metadata": {},
   "outputs": [
    {
     "ename": "SyntaxError",
     "evalue": "invalid syntax (551013222.py, line 3)",
     "output_type": "error",
     "traceback": [
      "\u001b[1;36m  File \u001b[1;32m\"C:\\Users\\Serigne\\AppData\\Local\\Temp\\ipykernel_19280\\551013222.py\"\u001b[1;36m, line \u001b[1;32m3\u001b[0m\n\u001b[1;33m    df_mapped[mapp_kw].replace(list(mapped.keys()),list(mapped.values()))\u001b[0m\n\u001b[1;37m    ^\u001b[0m\n\u001b[1;31mSyntaxError\u001b[0m\u001b[1;31m:\u001b[0m invalid syntax\n"
     ]
    }
   ],
   "source": [
    "for mapp_kw in ['winery','province','variety']:\n",
    "    mapped={value:index for index,value in enumerate(list(df[mapp_kw]))\n",
    "    df_mapped[mapp_kw].replace(list(mapped.keys()),list(mapped.values()))"
   ]
  },
  {
   "cell_type": "code",
   "execution_count": 38,
   "id": "c3e7dfee",
   "metadata": {},
   "outputs": [],
   "source": [
    "df= df.drop(['description'],axis=1)\n",
    "df_mapped= df_mapped.drop(['description'],axis=1)"
   ]
  },
  {
   "cell_type": "code",
   "execution_count": 39,
   "id": "73057eaf",
   "metadata": {},
   "outputs": [
    {
     "data": {
      "text/html": [
       "<div>\n",
       "<style scoped>\n",
       "    .dataframe tbody tr th:only-of-type {\n",
       "        vertical-align: middle;\n",
       "    }\n",
       "\n",
       "    .dataframe tbody tr th {\n",
       "        vertical-align: top;\n",
       "    }\n",
       "\n",
       "    .dataframe thead th {\n",
       "        text-align: right;\n",
       "    }\n",
       "</style>\n",
       "<table border=\"1\" class=\"dataframe\">\n",
       "  <thead>\n",
       "    <tr style=\"text-align: right;\">\n",
       "      <th></th>\n",
       "      <th>country</th>\n",
       "      <th>designation</th>\n",
       "      <th>points</th>\n",
       "      <th>price</th>\n",
       "      <th>province</th>\n",
       "      <th>region_1</th>\n",
       "      <th>region_2</th>\n",
       "      <th>title</th>\n",
       "      <th>variety</th>\n",
       "      <th>winery</th>\n",
       "      <th>processed_description</th>\n",
       "      <th>points_std</th>\n",
       "      <th>price_std</th>\n",
       "    </tr>\n",
       "  </thead>\n",
       "  <tbody>\n",
       "    <tr>\n",
       "      <th>3902</th>\n",
       "      <td>US</td>\n",
       "      <td>Estate</td>\n",
       "      <td>88</td>\n",
       "      <td>29.0</td>\n",
       "      <td>California</td>\n",
       "      <td>Sierra Foothills</td>\n",
       "      <td>Sierra Foothills</td>\n",
       "      <td>Naggiar 2009 Estate Petite Sirah (Sierra Footh...</td>\n",
       "      <td>Petite Sirah</td>\n",
       "      <td>Naggiar</td>\n",
       "      <td>made from estate-grown fruit sourced high in t...</td>\n",
       "      <td>-0.326028</td>\n",
       "      <td>-0.447661</td>\n",
       "    </tr>\n",
       "    <tr>\n",
       "      <th>3903</th>\n",
       "      <td>US</td>\n",
       "      <td>Radieux</td>\n",
       "      <td>88</td>\n",
       "      <td>31.0</td>\n",
       "      <td>Washington</td>\n",
       "      <td>Columbia Valley (WA)</td>\n",
       "      <td>Columbia Valley</td>\n",
       "      <td>Ott &amp; Murphy 2008 Radieux Red (Columbia Valley...</td>\n",
       "      <td>Bordeaux-style Red Blend</td>\n",
       "      <td>Ott &amp; Murphy</td>\n",
       "      <td>a five-grape bordeaux-style this ha a scent of...</td>\n",
       "      <td>-0.326028</td>\n",
       "      <td>-0.370837</td>\n",
       "    </tr>\n",
       "    <tr>\n",
       "      <th>3904</th>\n",
       "      <td>US</td>\n",
       "      <td>Dry</td>\n",
       "      <td>88</td>\n",
       "      <td>16.0</td>\n",
       "      <td>New York</td>\n",
       "      <td>Finger Lakes</td>\n",
       "      <td>Finger Lakes</td>\n",
       "      <td>Silver Thread 2011 Dry Riesling (Finger Lakes)</td>\n",
       "      <td>Riesling</td>\n",
       "      <td>Silver Thread</td>\n",
       "      <td>rather savory aroma of fennel, apple and salin...</td>\n",
       "      <td>-0.326028</td>\n",
       "      <td>-0.947017</td>\n",
       "    </tr>\n",
       "    <tr>\n",
       "      <th>3905</th>\n",
       "      <td>US</td>\n",
       "      <td>The Illusionist</td>\n",
       "      <td>88</td>\n",
       "      <td>45.0</td>\n",
       "      <td>Washington</td>\n",
       "      <td>Columbia Valley (WA)</td>\n",
       "      <td>Columbia Valley</td>\n",
       "      <td>Sleight of Hand 2009 The Illusionist Red (Colu...</td>\n",
       "      <td>Red Blend</td>\n",
       "      <td>Sleight of Hand</td>\n",
       "      <td>this is very spicy and with floral accent and ...</td>\n",
       "      <td>-0.326028</td>\n",
       "      <td>0.166930</td>\n",
       "    </tr>\n",
       "    <tr>\n",
       "      <th>3906</th>\n",
       "      <td>US</td>\n",
       "      <td>Anna's Vineyard Version</td>\n",
       "      <td>88</td>\n",
       "      <td>36.0</td>\n",
       "      <td>California</td>\n",
       "      <td>Paso Robles</td>\n",
       "      <td>Central Coast</td>\n",
       "      <td>Adelaida 2009 Anna's Vineyard Version Red (Pas...</td>\n",
       "      <td>Rhône-style Red Blend</td>\n",
       "      <td>Adelaida</td>\n",
       "      <td>there are ton of ripe flavor in this high-alco...</td>\n",
       "      <td>-0.326028</td>\n",
       "      <td>-0.178777</td>\n",
       "    </tr>\n",
       "  </tbody>\n",
       "</table>\n",
       "</div>"
      ],
      "text/plain": [
       "     country              designation  points  price    province  \\\n",
       "3902      US                   Estate      88   29.0  California   \n",
       "3903      US                  Radieux      88   31.0  Washington   \n",
       "3904      US                      Dry      88   16.0    New York   \n",
       "3905      US          The Illusionist      88   45.0  Washington   \n",
       "3906      US  Anna's Vineyard Version      88   36.0  California   \n",
       "\n",
       "                  region_1          region_2  \\\n",
       "3902      Sierra Foothills  Sierra Foothills   \n",
       "3903  Columbia Valley (WA)   Columbia Valley   \n",
       "3904          Finger Lakes      Finger Lakes   \n",
       "3905  Columbia Valley (WA)   Columbia Valley   \n",
       "3906           Paso Robles     Central Coast   \n",
       "\n",
       "                                                  title  \\\n",
       "3902  Naggiar 2009 Estate Petite Sirah (Sierra Footh...   \n",
       "3903  Ott & Murphy 2008 Radieux Red (Columbia Valley...   \n",
       "3904     Silver Thread 2011 Dry Riesling (Finger Lakes)   \n",
       "3905  Sleight of Hand 2009 The Illusionist Red (Colu...   \n",
       "3906  Adelaida 2009 Anna's Vineyard Version Red (Pas...   \n",
       "\n",
       "                       variety           winery  \\\n",
       "3902              Petite Sirah          Naggiar   \n",
       "3903  Bordeaux-style Red Blend     Ott & Murphy   \n",
       "3904                  Riesling    Silver Thread   \n",
       "3905                 Red Blend  Sleight of Hand   \n",
       "3906     Rhône-style Red Blend         Adelaida   \n",
       "\n",
       "                                  processed_description  points_std  price_std  \n",
       "3902  made from estate-grown fruit sourced high in t...   -0.326028  -0.447661  \n",
       "3903  a five-grape bordeaux-style this ha a scent of...   -0.326028  -0.370837  \n",
       "3904  rather savory aroma of fennel, apple and salin...   -0.326028  -0.947017  \n",
       "3905  this is very spicy and with floral accent and ...   -0.326028   0.166930  \n",
       "3906  there are ton of ripe flavor in this high-alco...   -0.326028  -0.178777  "
      ]
     },
     "execution_count": 39,
     "metadata": {},
     "output_type": "execute_result"
    }
   ],
   "source": [
    "df_mapped.tail(5)"
   ]
  },
  {
   "cell_type": "code",
   "execution_count": 41,
   "id": "b38f9b36",
   "metadata": {},
   "outputs": [],
   "source": [
    "save_path= os.path.abspath('Charts')"
   ]
  },
  {
   "cell_type": "code",
   "execution_count": 59,
   "id": "f2d5dac8",
   "metadata": {},
   "outputs": [
    {
     "data": {
      "image/png": "[encoded data removed]",
      "text/plain": [
       "<Figure size 640x480 with 1 Axes>"
      ]
     },
     "metadata": {},
     "output_type": "display_data"
    }
   ],
   "source": [
    "sns.boxplot(x='province',y='price',data=df,whis=[0,100],width=.6,palette=\"vlag\").set(title='Distribution of Wine Prices per us State',xlabel='Province',\n",
    "\n",
    "ylabel='Price ($)');\n",
    "plt.savefig(save_path + '/WinePrices_perState_BXP.jpg')"
   ]
  },
  {
   "cell_type": "code",
   "execution_count": 45,
   "id": "13cd94a7",
   "metadata": {},
   "outputs": [
    {
     "data": {
      "image/png": "[encoded data removed]",
      "text/plain": [
       "<Figure size 640x480 with 1 Axes>"
      ]
     },
     "metadata": {},
     "output_type": "display_data"
    }
   ],
   "source": [
    "sns.histplot(df,x='price',hue='province',multiple='stack').set(title='Distribution of Wine Prices per state',xlabel='Price of Wine ($)',\n",
    "                                                              ylabel='Frequency')\n",
    "plt.savefig(save_path + '/PriceperProvince_Hist.jpg')"
   ]
  },
  {
   "cell_type": "code",
   "execution_count": 46,
   "id": "5dce4de6",
   "metadata": {},
   "outputs": [
    {
     "data": {
      "image/png": "[encoded data removed]",
      "text/plain": [
       "<Figure size 640x480 with 1 Axes>"
      ]
     },
     "metadata": {},
     "output_type": "display_data"
    }
   ],
   "source": [
    "sns.boxplot(x='province',y='points',data=df,whis=[0,100],width=.6,palette=\"vlag\").set(title='Wine Points Distribution per State',xlabel='Province',\n",
    "\n",
    "ylabel='Points');\n",
    "plt.savefig(save_path + '/PointsperProvince_BXP.jpg')"
   ]
  },
  {
   "cell_type": "code",
   "execution_count": 47,
   "id": "627537e8",
   "metadata": {},
   "outputs": [
    {
     "data": {
      "image/png": "[encoded data removed]",
      "text/plain": [
       "<Figure size 640x480 with 1 Axes>"
      ]
     },
     "metadata": {},
     "output_type": "display_data"
    }
   ],
   "source": [
    "sns.histplot(df,x='points',hue='province').set(title='Point Ditribution By State',xlabel='Points',\n",
    "\n",
    "ylabel='Frequency');\n",
    "plt.savefig(save_path + '/PointsperProvince_HIST.jpg')"
   ]
  },
  {
   "cell_type": "code",
   "execution_count": 49,
   "id": "70c05f5e",
   "metadata": {},
   "outputs": [
    {
     "data": {
      "image/png": "[encoded data removed]",
      "text/plain": [
       "<Figure size 631.625x500 with 1 Axes>"
      ]
     },
     "metadata": {},
     "output_type": "display_data"
    }
   ],
   "source": [
    "sns.displot(df,x='points',hue='province',kind=\"kde\",multiple='stack').set(title='Density Points Distribution By State',xlabel='Points',\n",
    "\n",
    "ylabel='Relative Frequency');\n",
    "plt.savefig(save_path + '/PointsDensityperState_DIST.jpg')"
   ]
  },
  {
   "cell_type": "code",
   "execution_count": 50,
   "id": "6d759728",
   "metadata": {},
   "outputs": [],
   "source": [
    "def_dict = defaultdict(lambda:0)\n",
    "for sentences in df['processed_description']:\n",
    "    for word in sentences.split():\n",
    "        def_dict[word]= def_dict[word]+1"
   ]
  },
  {
   "cell_type": "code",
   "execution_count": 56,
   "id": "325173e8",
   "metadata": {},
   "outputs": [
    {
     "data": {
      "text/html": [
       "<div>\n",
       "<style scoped>\n",
       "    .dataframe tbody tr th:only-of-type {\n",
       "        vertical-align: middle;\n",
       "    }\n",
       "\n",
       "    .dataframe tbody tr th {\n",
       "        vertical-align: top;\n",
       "    }\n",
       "\n",
       "    .dataframe thead th {\n",
       "        text-align: right;\n",
       "    }\n",
       "</style>\n",
       "<table border=\"1\" class=\"dataframe\">\n",
       "  <thead>\n",
       "    <tr style=\"text-align: right;\">\n",
       "      <th></th>\n",
       "      <th>Words</th>\n",
       "      <th>Frequency</th>\n",
       "    </tr>\n",
       "  </thead>\n",
       "  <tbody>\n",
       "    <tr>\n",
       "      <th>12</th>\n",
       "      <td>and</td>\n",
       "      <td>10896</td>\n",
       "    </tr>\n",
       "    <tr>\n",
       "      <th>2</th>\n",
       "      <td>the</td>\n",
       "      <td>6722</td>\n",
       "    </tr>\n",
       "    <tr>\n",
       "      <th>9</th>\n",
       "      <td>a</td>\n",
       "      <td>6057</td>\n",
       "    </tr>\n",
       "    <tr>\n",
       "      <th>20</th>\n",
       "      <td>of</td>\n",
       "      <td>5473</td>\n",
       "    </tr>\n",
       "    <tr>\n",
       "      <th>13</th>\n",
       "      <td>with</td>\n",
       "      <td>3553</td>\n",
       "    </tr>\n",
       "    <tr>\n",
       "      <th>6</th>\n",
       "      <td>this</td>\n",
       "      <td>3503</td>\n",
       "    </tr>\n",
       "    <tr>\n",
       "      <th>37</th>\n",
       "      <td>in</td>\n",
       "      <td>2673</td>\n",
       "    </tr>\n",
       "    <tr>\n",
       "      <th>105</th>\n",
       "      <td>is</td>\n",
       "      <td>2400</td>\n",
       "    </tr>\n",
       "    <tr>\n",
       "      <th>21</th>\n",
       "      <td>it</td>\n",
       "      <td>2198</td>\n",
       "    </tr>\n",
       "    <tr>\n",
       "      <th>28</th>\n",
       "      <td>to</td>\n",
       "      <td>1697</td>\n",
       "    </tr>\n",
       "  </tbody>\n",
       "</table>\n",
       "</div>"
      ],
      "text/plain": [
       "    Words  Frequency\n",
       "12    and      10896\n",
       "2     the       6722\n",
       "9       a       6057\n",
       "20     of       5473\n",
       "13   with       3553\n",
       "6    this       3503\n",
       "37     in       2673\n",
       "105    is       2400\n",
       "21     it       2198\n",
       "28     to       1697"
      ]
     },
     "execution_count": 56,
     "metadata": {},
     "output_type": "execute_result"
    }
   ],
   "source": [
    "word_counts=pd.DataFrame()\n",
    "word_counts['Words']= def_dict.keys()\n",
    "word_counts['Frequency']=def_dict.values()\n",
    "word_counts=word_counts.sort_values('Frequency',ascending=False)\n",
    "word_counts=word_counts[:10]\n",
    "word_counts"
   ]
  },
  {
   "cell_type": "code",
   "execution_count": 58,
   "id": "053fd975",
   "metadata": {},
   "outputs": [
    {
     "data": {
      "image/png": "[encoded data removed]",
      "text/plain": [
       "<Figure size 640x480 with 1 Axes>"
      ]
     },
     "metadata": {},
     "output_type": "display_data"
    }
   ],
   "source": [
    "sns.barplot(data=word_counts,x='Words',y='Frequency')\n",
    "plt.xticks(rotation=45)\n",
    "plt.title('Frequency of Wide-Related Word Descriptors')\n",
    "plt.xlabel('Word');\n",
    "\n",
    "plt.savefig(save_path + '/DescriptionFrequency_BAR.jpg')\n"
   ]
  },
  {
   "cell_type": "code",
   "execution_count": 60,
   "id": "fdeb537f",
   "metadata": {},
   "outputs": [
    {
     "data": {
      "text/html": [
       "<div>\n",
       "<style scoped>\n",
       "    .dataframe tbody tr th:only-of-type {\n",
       "        vertical-align: middle;\n",
       "    }\n",
       "\n",
       "    .dataframe tbody tr th {\n",
       "        vertical-align: top;\n",
       "    }\n",
       "\n",
       "    .dataframe thead th {\n",
       "        text-align: right;\n",
       "    }\n",
       "</style>\n",
       "<table border=\"1\" class=\"dataframe\">\n",
       "  <thead>\n",
       "    <tr style=\"text-align: right;\">\n",
       "      <th></th>\n",
       "      <th>country</th>\n",
       "      <th>designation</th>\n",
       "      <th>points</th>\n",
       "      <th>price</th>\n",
       "      <th>province</th>\n",
       "      <th>region_1</th>\n",
       "      <th>region_2</th>\n",
       "      <th>title</th>\n",
       "      <th>variety</th>\n",
       "      <th>winery</th>\n",
       "      <th>processed_description</th>\n",
       "      <th>points_std</th>\n",
       "      <th>price_std</th>\n",
       "    </tr>\n",
       "  </thead>\n",
       "  <tbody>\n",
       "    <tr>\n",
       "      <th>0</th>\n",
       "      <td>US</td>\n",
       "      <td>Vintner's Reserve Wild Child Block</td>\n",
       "      <td>87</td>\n",
       "      <td>65.0</td>\n",
       "      <td>Oregon</td>\n",
       "      <td>Willamette Valley</td>\n",
       "      <td>Willamette Valley</td>\n",
       "      <td>Sweet Cheeks 2012 Vintner's Reserve Wild Child...</td>\n",
       "      <td>Pinot Noir</td>\n",
       "      <td>Sweet Cheeks</td>\n",
       "      <td>much like the regular bottling from this come ...</td>\n",
       "      <td>-0.655429</td>\n",
       "      <td>0.935170</td>\n",
       "    </tr>\n",
       "    <tr>\n",
       "      <th>1</th>\n",
       "      <td>US</td>\n",
       "      <td>Mountain Cuvée</td>\n",
       "      <td>87</td>\n",
       "      <td>19.0</td>\n",
       "      <td>California</td>\n",
       "      <td>Napa Valley</td>\n",
       "      <td>Napa</td>\n",
       "      <td>Kirkland Signature 2011 Mountain Cuvée Caberne...</td>\n",
       "      <td>Cabernet Sauvignon</td>\n",
       "      <td>Kirkland Signature</td>\n",
       "      <td>supple plum envelope an oaky structure in this...</td>\n",
       "      <td>-0.655429</td>\n",
       "      <td>-0.831781</td>\n",
       "    </tr>\n",
       "    <tr>\n",
       "      <th>2</th>\n",
       "      <td>US</td>\n",
       "      <td>Signature Selection</td>\n",
       "      <td>87</td>\n",
       "      <td>22.0</td>\n",
       "      <td>California</td>\n",
       "      <td>Paso Robles</td>\n",
       "      <td>Central Coast</td>\n",
       "      <td>Bianchi 2011 Signature Selection Merlot (Paso ...</td>\n",
       "      <td>Merlot</td>\n",
       "      <td>Bianchi</td>\n",
       "      <td>this wine from the geneseo district offer arom...</td>\n",
       "      <td>-0.655429</td>\n",
       "      <td>-0.716545</td>\n",
       "    </tr>\n",
       "    <tr>\n",
       "      <th>3</th>\n",
       "      <td>US</td>\n",
       "      <td>King Ridge Vineyard</td>\n",
       "      <td>87</td>\n",
       "      <td>69.0</td>\n",
       "      <td>California</td>\n",
       "      <td>Sonoma Coast</td>\n",
       "      <td>Sonoma</td>\n",
       "      <td>Castello di Amorosa 2011 King Ridge Vineyard P...</td>\n",
       "      <td>Pinot Noir</td>\n",
       "      <td>Castello di Amorosa</td>\n",
       "      <td>oak and earth intermingle around robust aroma ...</td>\n",
       "      <td>-0.655429</td>\n",
       "      <td>1.088818</td>\n",
       "    </tr>\n",
       "    <tr>\n",
       "      <th>4</th>\n",
       "      <td>US</td>\n",
       "      <td>Puma Springs Vineyard</td>\n",
       "      <td>86</td>\n",
       "      <td>50.0</td>\n",
       "      <td>California</td>\n",
       "      <td>Dry Creek Valley</td>\n",
       "      <td>Sonoma</td>\n",
       "      <td>Envolve 2010 Puma Springs Vineyard Red (Dry Cr...</td>\n",
       "      <td>Red Blend</td>\n",
       "      <td>Envolve</td>\n",
       "      <td>rustic and this ha flavor of currants, licoric...</td>\n",
       "      <td>-0.984830</td>\n",
       "      <td>0.358990</td>\n",
       "    </tr>\n",
       "  </tbody>\n",
       "</table>\n",
       "</div>"
      ],
      "text/plain": [
       "  country                         designation  points  price    province  \\\n",
       "0      US  Vintner's Reserve Wild Child Block      87   65.0      Oregon   \n",
       "1      US                      Mountain Cuvée      87   19.0  California   \n",
       "2      US                 Signature Selection      87   22.0  California   \n",
       "3      US                 King Ridge Vineyard      87   69.0  California   \n",
       "4      US               Puma Springs Vineyard      86   50.0  California   \n",
       "\n",
       "            region_1           region_2  \\\n",
       "0  Willamette Valley  Willamette Valley   \n",
       "1        Napa Valley               Napa   \n",
       "2        Paso Robles      Central Coast   \n",
       "3       Sonoma Coast             Sonoma   \n",
       "4   Dry Creek Valley             Sonoma   \n",
       "\n",
       "                                               title             variety  \\\n",
       "0  Sweet Cheeks 2012 Vintner's Reserve Wild Child...          Pinot Noir   \n",
       "1  Kirkland Signature 2011 Mountain Cuvée Caberne...  Cabernet Sauvignon   \n",
       "2  Bianchi 2011 Signature Selection Merlot (Paso ...              Merlot   \n",
       "3  Castello di Amorosa 2011 King Ridge Vineyard P...          Pinot Noir   \n",
       "4  Envolve 2010 Puma Springs Vineyard Red (Dry Cr...           Red Blend   \n",
       "\n",
       "                winery                              processed_description  \\\n",
       "0         Sweet Cheeks  much like the regular bottling from this come ...   \n",
       "1   Kirkland Signature  supple plum envelope an oaky structure in this...   \n",
       "2              Bianchi  this wine from the geneseo district offer arom...   \n",
       "3  Castello di Amorosa  oak and earth intermingle around robust aroma ...   \n",
       "4              Envolve  rustic and this ha flavor of currants, licoric...   \n",
       "\n",
       "   points_std  price_std  \n",
       "0   -0.655429   0.935170  \n",
       "1   -0.655429  -0.831781  \n",
       "2   -0.655429  -0.716545  \n",
       "3   -0.655429   1.088818  \n",
       "4   -0.984830   0.358990  "
      ]
     },
     "execution_count": 60,
     "metadata": {},
     "output_type": "execute_result"
    }
   ],
   "source": [
    "df_mapped.head(5)"
   ]
  },
  {
   "cell_type": "code",
   "execution_count": 63,
   "id": "fa792538",
   "metadata": {},
   "outputs": [],
   "source": [
    "x_feat_list=['points','price','winery','province','variety']\n",
    "x_vals=df_mapped.loc[:,x_feat_list].values"
   ]
  },
  {
   "cell_type": "code",
   "execution_count": null,
   "id": "b5712864",
   "metadata": {},
   "outputs": [],
   "source": []
  },
  {
   "cell_type": "code",
   "execution_count": null,
   "id": "945d8ee7",
   "metadata": {},
   "outputs": [],
   "source": []
  }
 ],
 "metadata": {
  "kernelspec": {
   "display_name": "Python 3 (ipykernel)",
   "language": "python",
   "name": "python3"
  },
  "language_info": {
   "codemirror_mode": {
    "name": "ipython",
    "version": 3
   },
   "file_extension": ".py",
   "mimetype": "text/x-python",
   "name": "python",
   "nbconvert_exporter": "python",
   "pygments_lexer": "ipython3",
   "version": "3.9.13"
  }
 },
 "nbformat": 4,
 "nbformat_minor": 5
}
